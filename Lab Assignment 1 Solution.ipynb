{
 "cells": [
  {
   "cell_type": "markdown",
   "metadata": {},
   "source": [
    "***Exercise 1***\n",
    "\n",
    "* Implement Lemmatization: Replace the stemming process with lemmatization using WordNetLemmatizer."
   ]
  },
  {
   "cell_type": "code",
   "execution_count": 5,
   "metadata": {},
   "outputs": [
    {
     "name": "stderr",
     "output_type": "stream",
     "text": [
      "[nltk_data] Downloading package punkt to\n",
      "[nltk_data]     C:\\Users\\Chopr\\AppData\\Roaming\\nltk_data...\n",
      "[nltk_data]   Package punkt is already up-to-date!\n",
      "[nltk_data] Downloading package stopwords to\n",
      "[nltk_data]     C:\\Users\\Chopr\\AppData\\Roaming\\nltk_data...\n",
      "[nltk_data]   Package stopwords is already up-to-date!\n",
      "[nltk_data] Downloading package wordnet to\n",
      "[nltk_data]     C:\\Users\\Chopr\\AppData\\Roaming\\nltk_data...\n"
     ]
    },
    {
     "data": {
      "text/plain": [
       "True"
      ]
     },
     "execution_count": 5,
     "metadata": {},
     "output_type": "execute_result"
    }
   ],
   "source": [
    "import nltk\n",
    "nltk.download('punkt')\n",
    "nltk.download('stopwords')\n",
    "nltk.download('wordnet')"
   ]
  },
  {
   "cell_type": "code",
   "execution_count": 6,
   "metadata": {},
   "outputs": [
    {
     "name": "stdout",
     "output_type": "stream",
     "text": [
      "['hello', 'world', 'example', 'text', 'preprocessing', 'python', 'let', 'clean', 'text']\n"
     ]
    }
   ],
   "source": [
    "import re\n",
    "import nltk\n",
    "from nltk.corpus import stopwords\n",
    "from nltk.tokenize import word_tokenize\n",
    "from nltk.stem import WordNetLemmatizer\n",
    "\n",
    "lemmatizer = WordNetLemmatizer()\n",
    "stop_words = set(stopwords.words('english'))\n",
    "\n",
    "def preprocess_text(text):\n",
    "    text = text.lower()\n",
    "\n",
    "    text = re.sub(r'[^\\w\\s]', '', text)\n",
    "\n",
    "    tokens = word_tokenize(text)\n",
    "\n",
    "    tokens = [lemmatizer.lemmatize(word) for word in tokens if word not in stop_words]\n",
    "\n",
    "    return tokens\n",
    "\n",
    "# Sample text\n",
    "text = \"Hello world! This is an example of text preprocessing in Python. Let's clean this text.\"\n",
    "\n",
    "# Preprocess the sample text\n",
    "preprocessed_tokens = preprocess_text(text)\n",
    "print(preprocessed_tokens)"
   ]
  },
  {
   "cell_type": "markdown",
   "metadata": {},
   "source": [
    "***Exercise 2***\n",
    "\n",
    "* Handle Different Languages: Modify the code to preprocess text in a different language using the appropriate stopwords and tokenizers.\n",
    "\n",
    "* Here Spanish is taken."
   ]
  },
  {
   "cell_type": "code",
   "execution_count": 9,
   "metadata": {},
   "outputs": [
    {
     "name": "stdout",
     "output_type": "stream",
     "text": [
      "['hol', 'mund', 'ejempl', 'proces', 'text', 'python', 'vam', 'limpi', 'text']\n"
     ]
    }
   ],
   "source": [
    "import re\n",
    "import nltk\n",
    "from nltk.corpus import stopwords\n",
    "from nltk.tokenize import word_tokenize\n",
    "from nltk.stem import SnowballStemmer\n",
    "\n",
    "stemmer = SnowballStemmer('spanish')\n",
    "stop_words = set(stopwords.words('spanish'))\n",
    "\n",
    "def preprocess_text(text):\n",
    "    text = text.lower()\n",
    "\n",
    "    text = re.sub(r'[^\\w\\s]', '', text)\n",
    "\n",
    "    tokens = word_tokenize(text, language='spanish')\n",
    "\n",
    "    tokens = [stemmer.stem(word) for word in tokens if word not in stop_words]\n",
    "\n",
    "    return tokens\n",
    "\n",
    "text = \"¡Hola mundo! Este es un ejemplo de procesamiento de texto en Python. Vamos a limpiar este texto.\"\n",
    "\n",
    "preprocessed_tokens = preprocess_text(text)\n",
    "print(preprocessed_tokens)\n"
   ]
  },
  {
   "cell_type": "markdown",
   "metadata": {},
   "source": [
    "***Exercise 3***\n",
    "\n",
    "* Explore Other Vectorizers: Try using HashingVectorizer and compare it with CountVectorizer and TfidfVectorizer."
   ]
  },
  {
   "cell_type": "code",
   "execution_count": 16,
   "metadata": {},
   "outputs": [
    {
     "name": "stdout",
     "output_type": "stream",
     "text": [
      "CountVectorizer Matrix:\n",
      "[[1 0 1 0 0 0 1 1]\n",
      " [0 1 0 1 1 1 0 1]\n",
      " [0 1 0 1 0 0 1 1]]\n",
      "Feature Names: ['brown' 'dog' 'fox' 'jumps' 'lazy' 'over' 'quick' 'the']\n",
      "\n",
      "TfidfVectorizer Matrix:\n",
      "[[0.5844829  0.         0.5844829  0.         0.         0.\n",
      "  0.44451431 0.34520502]\n",
      " [0.         0.40619178 0.         0.40619178 0.53409337 0.53409337\n",
      "  0.         0.31544415]\n",
      " [0.         0.52682017 0.         0.52682017 0.         0.\n",
      "  0.52682017 0.40912286]]\n",
      "Feature Names: ['brown' 'dog' 'fox' 'jumps' 'lazy' 'over' 'quick' 'the']\n",
      "\n",
      "HashingVectorizer Matrix:\n",
      "[[ 0.          0.          0.          0.          0.          0.\n",
      "   0.          0.          0.          0.        ]\n",
      " [ 0.          0.57735027  0.         -0.57735027  0.          0.\n",
      "   0.          0.         -0.57735027  0.        ]\n",
      " [ 0.          0.          0.         -0.5         0.          0.5\n",
      "   0.          0.5        -0.5         0.        ]]\n"
     ]
    }
   ],
   "source": [
    "from sklearn.feature_extraction.text import CountVectorizer, TfidfVectorizer, HashingVectorizer\n",
    "\n",
    "documents = [\n",
    "    \"The quick brown fox\",\n",
    "    \"Jumps over the lazy dog\",\n",
    "    \"The quick dog jumps\"\n",
    "]\n",
    "\n",
    "# documents = [\n",
    "#     \"Data science is an interdisciplinary field\",\n",
    "#     \"It uses scientific methods, processes, algorithms\",\n",
    "#     \"To extract knowledge from structured and unstructured data\",\n",
    "#     \"Machine learning is a key component of data science\"\n",
    "# ]\n",
    "\n",
    "count_vectorizer = CountVectorizer()\n",
    "tfidf_vectorizer = TfidfVectorizer()\n",
    "hashing_vectorizer = HashingVectorizer(n_features=10) \n",
    "\n",
    "count_matrix = count_vectorizer.fit_transform(documents)\n",
    "tfidf_matrix = tfidf_vectorizer.fit_transform(documents)\n",
    "hashing_matrix = hashing_vectorizer.transform(documents)\n",
    "\n",
    "count_dense = count_matrix.toarray()\n",
    "tfidf_dense = tfidf_matrix.toarray()\n",
    "hashing_dense = hashing_matrix.toarray()\n",
    "\n",
    "print(\"CountVectorizer Matrix:\")\n",
    "print(count_dense)\n",
    "print(\"Feature Names:\", count_vectorizer.get_feature_names_out())\n",
    "\n",
    "print(\"\\nTfidfVectorizer Matrix:\")\n",
    "print(tfidf_dense)\n",
    "print(\"Feature Names:\", tfidf_vectorizer.get_feature_names_out())\n",
    "\n",
    "print(\"\\nHashingVectorizer Matrix:\")\n",
    "print(hashing_dense)\n"
   ]
  }
 ],
 "metadata": {
  "kernelspec": {
   "display_name": "Python 3",
   "language": "python",
   "name": "python3"
  },
  "language_info": {
   "codemirror_mode": {
    "name": "ipython",
    "version": 3
   },
   "file_extension": ".py",
   "mimetype": "text/x-python",
   "name": "python",
   "nbconvert_exporter": "python",
   "pygments_lexer": "ipython3",
   "version": "3.11.3"
  }
 },
 "nbformat": 4,
 "nbformat_minor": 2
}
